{
  "nbformat": 4,
  "nbformat_minor": 0,
  "metadata": {
    "colab": {
      "provenance": []
    },
    "kernelspec": {
      "name": "python3",
      "display_name": "Python 3"
    },
    "language_info": {
      "name": "python"
    }
  },
  "cells": [
    {
      "cell_type": "code",
      "source": [
        "!pip install biopython"
      ],
      "metadata": {
        "colab": {
          "base_uri": "https://localhost:8080/"
        },
        "id": "znC_XITR9bWj",
        "outputId": "ae29443d-8138-4882-ee6d-06a0ee8e769e"
      },
      "execution_count": 2,
      "outputs": [
        {
          "output_type": "stream",
          "name": "stdout",
          "text": [
            "Collecting biopython\n",
            "  Downloading biopython-1.84-cp310-cp310-manylinux_2_17_x86_64.manylinux2014_x86_64.whl.metadata (12 kB)\n",
            "Requirement already satisfied: numpy in /usr/local/lib/python3.10/dist-packages (from biopython) (1.26.4)\n",
            "Downloading biopython-1.84-cp310-cp310-manylinux_2_17_x86_64.manylinux2014_x86_64.whl (3.2 MB)\n",
            "\u001b[2K   \u001b[90m━━━━━━━━━━━━━━━━━━━━━━━━━━━━━━━━━━━━━━━━\u001b[0m \u001b[32m3.2/3.2 MB\u001b[0m \u001b[31m26.9 MB/s\u001b[0m eta \u001b[36m0:00:00\u001b[0m\n",
            "\u001b[?25hInstalling collected packages: biopython\n",
            "Successfully installed biopython-1.84\n"
          ]
        }
      ]
    },
    {
      "cell_type": "code",
      "execution_count": 3,
      "metadata": {
        "colab": {
          "base_uri": "https://localhost:8080/"
        },
        "id": "EvkmD1wn9OFv",
        "outputId": "65b1dc05-c227-4ff0-ae96-5e38f1ecf440"
      },
      "outputs": [
        {
          "output_type": "stream",
          "name": "stdout",
          "text": [
            "Motif 'ATA' found at positions: [8, 10]\n",
            "Motif 'CAT' found at positions: [4]\n",
            "Coding Regions -  [(0, 9)]\n",
            "GC Content - 0.21428571428571427\n",
            "DNA Sequence Analysis Report\n",
            "Provided DNA Sequence:\n",
            "ATGTCATGATATAA\n",
            "Analysis 1: Finding Motifs\n",
            "Motif 1 (ATA) found at positions: [8, 10]\n",
            "Motif 2 (CAT) found at positions: [4]\n",
            "Analysis 2: Calculating GC Content\n",
            "GC Content: 21.43%\n",
            "Analysis 3: Identifying Coding Regions\n",
            "Coding regions found:\n",
            "Start: 0 Stop: 9\n",
            "\n"
          ]
        }
      ],
      "source": [
        "from Bio.Seq import Seq\n",
        "from Bio.SeqUtils import gc_fraction\n",
        "\n",
        "# DNA sequence provided for analysis\n",
        "dna_sequence = \"ATGTCATGATATAA\"\n",
        "\n",
        "# Create a Biopython Seq object\n",
        "seq = Seq(dna_sequence)\n",
        "\n",
        "# Function to find motifs in the sequence\n",
        "def find_motifs(sequence, motif):\n",
        "    return [i for i in range(len(sequence)) if sequence.startswith(motif, i)]\n",
        "\n",
        "# Calculate GC content\n",
        "gc_content = gc_fraction(seq)\n",
        "\n",
        "# Function to identify coding regions based on start and stop codons\n",
        "def identify_coding_regions(sequence):\n",
        "    start_codon = \"ATG\"\n",
        "    stop_codons = {\"TAA\", \"TAG\", \"TGA\"}  # Using a set for faster lookup\n",
        "    coding_regions = []\n",
        "\n",
        "    i = 0\n",
        "    while i < len(sequence):\n",
        "        if sequence.startswith(start_codon, i):\n",
        "            start_index = i\n",
        "            i += 3\n",
        "            while i < len(sequence):\n",
        "                if sequence[i:i + 3] in stop_codons:\n",
        "                    coding_regions.append((start_index, i + 3))  # Include the stop codon\n",
        "                    break\n",
        "                i += 3\n",
        "        else:\n",
        "            i += 1\n",
        "\n",
        "    return coding_regions\n",
        "\n",
        "# Example usage\n",
        "motif1 = \"ATA\"\n",
        "motif2 = \"CAT\"\n",
        "motif1_positions = find_motifs(seq, motif1)\n",
        "motif2_positions = find_motifs(seq, motif2)\n",
        "\n",
        "print(f\"Motif '{motif1}' found at positions: {motif1_positions}\")\n",
        "print(f\"Motif '{motif2}' found at positions: {motif2_positions}\")\n",
        "\n",
        "coding_regions = identify_coding_regions(dna_sequence)\n",
        "print(\"Coding Regions - \", coding_regions)\n",
        "print(\"GC Content -\", gc_content)\n",
        "\n",
        "# Create a report\n",
        "report = [\n",
        "    \"DNA Sequence Analysis Report\\n\",\n",
        "    f\"Provided DNA Sequence:\\n{seq}\\n\",\n",
        "    \"Analysis 1: Finding Motifs\\n\",\n",
        "    f\"Motif 1 ({motif1}) found at positions: {motif1_positions}\\n\",\n",
        "    f\"Motif 2 ({motif2}) found at positions: {motif2_positions}\\n\",\n",
        "    \"Analysis 2: Calculating GC Content\\n\",\n",
        "    f\"GC Content: {gc_content:.2%}\\n\",\n",
        "    \"Analysis 3: Identifying Coding Regions\\n\"\n",
        "]\n",
        "\n",
        "# Add coding regions to the report\n",
        "if coding_regions:\n",
        "    report.append(\"Coding regions found:\\n\")\n",
        "    report.extend(f\"Start: {start} Stop: {stop}\\n\" for start, stop in coding_regions)\n",
        "else:\n",
        "    report.append(\"No coding regions found in the sequence.\")\n",
        "\n",
        "# Save the report to a file\n",
        "with open(\"dna_sequence_analysis_report.txt\", \"w\") as report_file:\n",
        "    report_file.writelines(report)\n",
        "\n",
        "# Read the file and display its content\n",
        "with open(\"dna_sequence_analysis_report.txt\", \"r\") as file:\n",
        "    print(file.read())\n"
      ]
    },
    {
      "cell_type": "code",
      "source": [],
      "metadata": {
        "id": "YY1AEuze9Ret"
      },
      "execution_count": null,
      "outputs": []
    }
  ]
}